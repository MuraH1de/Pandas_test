{
 "cells": [
  {
   "cell_type": "code",
   "execution_count": 3,
   "metadata": {},
   "outputs": [
    {
     "name": "stdout",
     "output_type": "stream",
     "text": [
      "     A  B      C\n",
      "01  15  a   True\n",
      "02  20  b  False\n",
      "03  10  c  False\n"
     ]
    }
   ],
   "source": [
    "#DataFrame\n",
    "import pandas as pd\n",
    "df = pd.DataFrame([[15, \"a\", True],[20, \"b\", False],[10, \"c\", False]])\n",
    "df.index = [\"01\", \"02\", \"03\"]\n",
    "df.columns = [\"A\", \"B\", \"C\"]\n",
    "print(df)"
   ]
  },
  {
   "cell_type": "code",
   "execution_count": 4,
   "metadata": {},
   "outputs": [
    {
     "name": "stdout",
     "output_type": "stream",
     "text": [
      "10\n"
     ]
    }
   ],
   "source": [
    "a = df.loc[\"03\", \"A\"]\n",
    "#この指定方法が「loc」\n",
    "print(a)"
   ]
  },
  {
   "cell_type": "code",
   "execution_count": 5,
   "metadata": {},
   "outputs": [
    {
     "name": "stdout",
     "output_type": "stream",
     "text": [
      "10\n"
     ]
    }
   ],
   "source": [
    "b = df.iloc[2, 0]\n",
    "#この指定方法が「iloc」\n",
    "print(b)"
   ]
  },
  {
   "cell_type": "code",
   "execution_count": 9,
   "metadata": {},
   "outputs": [
    {
     "name": "stdout",
     "output_type": "stream",
     "text": [
      "----- df -------\n",
      "     A  B      C\n",
      "01  40  a   True\n",
      "02  20  b  False\n",
      "03  30  c  False\n",
      "----- df C列がA列の2倍 -------\n",
      "     A  B   C\n",
      "01  40  a  80\n",
      "02  20  b  40\n",
      "03  30  c  60\n",
      "----- df B列がjudge -------\n",
      "     A       B   C\n",
      "01  40    high  80\n",
      "02  20     low  40\n",
      "03  30  middle  60\n",
      "----- _ C列が50以上かどうかの判定結果を出力-------\n",
      "01     True\n",
      "02    False\n",
      "03     True\n",
      "Name: C, dtype: bool\n",
      "----- df _を代入（Trueのもののみ） -------\n",
      "     A       B   C\n",
      "01  40    high  80\n",
      "03  30  middle  60\n",
      "----- 最終回答 -------\n",
      "40 middle\n"
     ]
    }
   ],
   "source": [
    "import pandas as pd\n",
    "df = pd.DataFrame([[40, \"a\", True],[20, \"b\", False],[30, \"c\", False]])\n",
    "df.index = [\"01\", \"02\", \"03\"]\n",
    "df.columns = [\"A\", \"B\", \"C\"]\n",
    "print('----- df -------')\n",
    "print(df)\n",
    "\n",
    "\n",
    "def judge(arg):\n",
    "    if arg < 50:\n",
    "        return \"low\"\n",
    "    elif arg < 70:\n",
    "        return \"middle\"\n",
    "    else:\n",
    "        return \"high\"\n",
    "\n",
    "df.loc[:, \"C\"] = df.iloc[:, 0] * 2\n",
    "print('----- df C列がA列の2倍 -------')\n",
    "print(df)\n",
    "\n",
    "df.loc[:, \"B\"] = df.iloc[:, 2].apply(judge)\n",
    "print('----- df B列がjudge -------')\n",
    "print(df)\n",
    "\n",
    "_ = df[\"C\"] > 50\n",
    "print('----- _ C列が50以上かどうかの判定結果を出力-------')\n",
    "print(_)\n",
    "\n",
    "df = df[_]\n",
    "print('----- df _を代入（Trueのもののみ） -------')\n",
    "print(df)\n",
    "\n",
    "print('----- 最終回答 -------')\n",
    "print(df.iloc[0 , 0], df.iloc[1 ,1])"
   ]
  },
  {
   "cell_type": "code",
   "execution_count": 12,
   "metadata": {},
   "outputs": [
    {
     "name": "stdout",
     "output_type": "stream",
     "text": [
      "----- dates 365個の日付配列作成 -------\n",
      "DatetimeIndex(['2017-04-01', '2017-04-02', '2017-04-03', '2017-04-04',\n",
      "               '2017-04-05', '2017-04-06', '2017-04-07', '2017-04-08',\n",
      "               '2017-04-09', '2017-04-10',\n",
      "               ...\n",
      "               '2018-03-22', '2018-03-23', '2018-03-24', '2018-03-25',\n",
      "               '2018-03-26', '2018-03-27', '2018-03-28', '2018-03-29',\n",
      "               '2018-03-30', '2018-03-31'],\n",
      "              dtype='datetime64[ns]', length=365, freq='D')\n",
      "----- df 1年分の乱数データ -------\n",
      "            rand\n",
      "2017-04-01    14\n",
      "2017-04-02     3\n",
      "2017-04-03    29\n",
      "2017-04-04     3\n",
      "2017-04-05     7\n",
      "...          ...\n",
      "2018-03-27    22\n",
      "2018-03-28     5\n",
      "2018-03-29    22\n",
      "2018-03-30     1\n",
      "2018-03-31     8\n",
      "\n",
      "[365 rows x 1 columns]\n",
      "----- df_year 1年間お集約結果 -------\n",
      "            rand\n",
      "2017-04-01    14\n",
      "2017-04-08    91\n",
      "2017-04-15   114\n",
      "2017-04-22    89\n",
      "2017-04-29    91\n",
      "2017-05-06    84\n",
      "2017-05-13   110\n",
      "2017-05-20   133\n",
      "2017-05-27    70\n",
      "2017-06-03    83\n",
      "2017-06-10   124\n",
      "2017-06-17   119\n",
      "2017-06-24    94\n",
      "2017-07-01   116\n",
      "2017-07-08   116\n",
      "2017-07-15   135\n",
      "2017-07-22   109\n",
      "2017-07-29    61\n",
      "2017-08-05   108\n",
      "2017-08-12   122\n",
      "2017-08-19    87\n",
      "2017-08-26    99\n",
      "2017-09-02   126\n",
      "2017-09-09    70\n",
      "2017-09-16   106\n",
      "2017-09-23    94\n",
      "2017-09-30   110\n",
      "2017-10-07   149\n",
      "2017-10-14    63\n",
      "2017-10-21   126\n",
      "2017-10-28   107\n",
      "2017-11-04    98\n",
      "2017-11-11    97\n",
      "2017-11-18   100\n",
      "2017-11-25   122\n",
      "2017-12-02   120\n",
      "2017-12-09   174\n",
      "2017-12-16   114\n",
      "2017-12-23   146\n",
      "2017-12-30    95\n",
      "2018-01-06    97\n",
      "2018-01-13    73\n",
      "2018-01-20   127\n",
      "2018-01-27   121\n",
      "2018-02-03    86\n",
      "2018-02-10    50\n",
      "2018-02-17    76\n",
      "2018-02-24   132\n",
      "2018-03-03   105\n",
      "2018-03-10   139\n",
      "2018-03-17   149\n",
      "2018-03-24   114\n",
      "2018-03-31   101\n"
     ]
    }
   ],
   "source": [
    "import numpy as np\n",
    "import pandas as pd\n",
    "np.random.seed(123)\n",
    "#乱数のseed設定\n",
    "\n",
    "dates = pd.date_range(start=\"2017-04-01\", periods=365)\n",
    "#変数datesに365の乱数を設定\n",
    "print('----- dates 365個の日付配列作成 -------')\n",
    "print(dates)\n",
    "\n",
    "df = pd.DataFrame(np.random.randint(1, 31, 365), index=dates, columns=[\"rand\"])\n",
    "#365×1の配列作成、中身は1～30の乱数、行の項目は日付、列の項目はrand\n",
    "print('----- df 1年分の乱数データ -------')\n",
    "print(df)\n",
    "\n",
    "df_year = pd.DataFrame(df.groupby(pd.Grouper(freq='W-SAT')).sum(), columns=[\"rand\"])\n",
    "#W-SAT・・・Wはweeklyでまとめる指示、SATは土曜始まりで集計させる指示\n",
    "#1週間の合計値を保存\n",
    "print('----- df_year 1年間の集約結果 -------')\n",
    "print(df_year)"
   ]
  },
  {
   "cell_type": "code",
   "execution_count": null,
   "metadata": {},
   "outputs": [],
   "source": []
  }
 ],
 "metadata": {
  "kernelspec": {
   "display_name": "Python 3",
   "language": "python",
   "name": "python3"
  },
  "language_info": {
   "codemirror_mode": {
    "name": "ipython",
    "version": 3
   },
   "file_extension": ".py",
   "mimetype": "text/x-python",
   "name": "python",
   "nbconvert_exporter": "python",
   "pygments_lexer": "ipython3",
   "version": "3.7.6"
  }
 },
 "nbformat": 4,
 "nbformat_minor": 4
}
